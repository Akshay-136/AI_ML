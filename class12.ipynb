{
  "nbformat": 4,
  "nbformat_minor": 0,
  "metadata": {
    "colab": {
      "provenance": [],
      "gpuType": "T4",
      "authorship_tag": "ABX9TyM3bQbdM9F5XJbj6TZqgdm7",
      "include_colab_link": true
    },
    "kernelspec": {
      "name": "python3",
      "display_name": "Python 3"
    },
    "language_info": {
      "name": "python"
    },
    "accelerator": "GPU"
  },
  "cells": [
    {
      "cell_type": "markdown",
      "metadata": {
        "id": "view-in-github",
        "colab_type": "text"
      },
      "source": [
        "<a href=\"https://colab.research.google.com/github/Akshay-136/AI_ML/blob/master/class12.ipynb\" target=\"_parent\"><img src=\"https://colab.research.google.com/assets/colab-badge.svg\" alt=\"Open In Colab\"/></a>"
      ]
    },
    {
      "cell_type": "markdown",
      "source": [
        "**Practical Application of CNN**"
      ],
      "metadata": {
        "id": "vCEqxI0CBeCF"
      }
    },
    {
      "cell_type": "code",
      "execution_count": null,
      "metadata": {
        "id": "OBSb7aMSBVvq"
      },
      "outputs": [],
      "source": [
        "!unzip '/content/Animal_Dataset.zip'"
      ]
    },
    {
      "cell_type": "code",
      "source": [
        "#data Augmentation\n",
        "\n",
        "from tensorflow.keras.preprocessing.image import ImageDataGenerator"
      ],
      "metadata": {
        "id": "9q1A8VJyF1hs"
      },
      "execution_count": 45,
      "outputs": []
    },
    {
      "cell_type": "code",
      "source": [
        "train_gen = ImageDataGenerator(rescale=(1./255),horizontal_flip=True,shear_range=0.2)\n",
        "test_gen = ImageDataGenerator(rescale=(1./255))"
      ],
      "metadata": {
        "id": "N6kLZ2vjKoXf"
      },
      "execution_count": 46,
      "outputs": []
    },
    {
      "cell_type": "code",
      "source": [
        "train = train_gen.flow_from_directory('/content/dataset/Training',\n",
        "                                      target_size=(120,120),\n",
        "                                      class_mode='categorical',\n",
        "                                      batch_size=8)\n",
        "test = test_gen.flow_from_directory('/content/dataset/Testing',\n",
        "                                      target_size=(120,120),\n",
        "                                      class_mode='categorical',\n",
        "                                      batch_size=8)"
      ],
      "metadata": {
        "colab": {
          "base_uri": "https://localhost:8080/"
        },
        "id": "KPs2R96ELe22",
        "outputId": "2e0348f6-c1b3-4c81-dacf-deebdc23af8c"
      },
      "execution_count": 47,
      "outputs": [
        {
          "output_type": "stream",
          "name": "stdout",
          "text": [
            "Found 1238 images belonging to 4 classes.\n",
            "Found 326 images belonging to 4 classes.\n"
          ]
        }
      ]
    },
    {
      "cell_type": "code",
      "source": [
        "train.class_indices"
      ],
      "metadata": {
        "colab": {
          "base_uri": "https://localhost:8080/"
        },
        "id": "LD2kjAJpVwQV",
        "outputId": "2e06e3fc-8b9e-4fff-902e-bdad32afcd8a"
      },
      "execution_count": 48,
      "outputs": [
        {
          "output_type": "execute_result",
          "data": {
            "text/plain": [
              "{'bears': 0, 'crows': 1, 'elephants': 2, 'rats': 3}"
            ]
          },
          "metadata": {},
          "execution_count": 48
        }
      ]
    },
    {
      "cell_type": "code",
      "source": [
        "#CNN MODEL"
      ],
      "metadata": {
        "id": "K2KzVuaDL9cL"
      },
      "execution_count": 49,
      "outputs": []
    },
    {
      "cell_type": "code",
      "source": [
        "from tensorflow.keras.layers import Convolution2D,MaxPooling2D,Flatten,Dense\n",
        "from tensorflow.keras.models import Sequential"
      ],
      "metadata": {
        "id": "K1hN6tlfNylS"
      },
      "execution_count": 50,
      "outputs": []
    },
    {
      "cell_type": "code",
      "source": [
        "model=Sequential()\n",
        "model.add(Convolution2D(20,(3,3),activation='relu',input_shape=(120,120,3)))#colored img =3 , black white=1\n",
        "model.add(MaxPooling2D(pool_size=(2,2)))\n",
        "model.add(Flatten())\n",
        "model.add(Dense(45,activation='relu'))\n",
        "model.add(Dense(4,activation='softmax'))"
      ],
      "metadata": {
        "id": "_T1XRT1iRIgl"
      },
      "execution_count": 51,
      "outputs": []
    },
    {
      "cell_type": "code",
      "source": [
        "\n",
        "model.compile(optimizer='adam',loss='categorical_crossentropy',metrics=['accuracy'])"
      ],
      "metadata": {
        "id": "8TgWUwTBS2LU"
      },
      "execution_count": 52,
      "outputs": []
    },
    {
      "cell_type": "code",
      "source": [
        "model.fit(train,batch_size=8,validation_data=test,epochs=10)"
      ],
      "metadata": {
        "colab": {
          "base_uri": "https://localhost:8080/"
        },
        "id": "Qqd292u1WBMc",
        "outputId": "2a999f91-e71f-454c-eec8-a3a5251b9827"
      },
      "execution_count": 53,
      "outputs": [
        {
          "output_type": "stream",
          "name": "stdout",
          "text": [
            "Epoch 1/10\n",
            "155/155 [==============================] - 10s 55ms/step - loss: 1.3799 - accuracy: 0.4709 - val_loss: 0.8925 - val_accuracy: 0.6564\n",
            "Epoch 2/10\n",
            "155/155 [==============================] - 7s 46ms/step - loss: 0.7353 - accuracy: 0.7415 - val_loss: 0.3354 - val_accuracy: 0.9110\n",
            "Epoch 3/10\n",
            "155/155 [==============================] - 8s 51ms/step - loss: 0.3881 - accuracy: 0.8708 - val_loss: 0.1686 - val_accuracy: 0.9509\n",
            "Epoch 4/10\n",
            "155/155 [==============================] - 8s 50ms/step - loss: 0.2301 - accuracy: 0.9354 - val_loss: 0.0995 - val_accuracy: 0.9785\n",
            "Epoch 5/10\n",
            "155/155 [==============================] - 7s 47ms/step - loss: 0.1013 - accuracy: 0.9758 - val_loss: 0.0391 - val_accuracy: 0.9969\n",
            "Epoch 6/10\n",
            "155/155 [==============================] - 8s 50ms/step - loss: 0.0715 - accuracy: 0.9863 - val_loss: 0.0557 - val_accuracy: 0.9908\n",
            "Epoch 7/10\n",
            "155/155 [==============================] - 8s 50ms/step - loss: 0.0602 - accuracy: 0.9871 - val_loss: 0.0280 - val_accuracy: 1.0000\n",
            "Epoch 8/10\n",
            "155/155 [==============================] - 7s 43ms/step - loss: 0.0582 - accuracy: 0.9927 - val_loss: 0.0340 - val_accuracy: 0.9969\n",
            "Epoch 9/10\n",
            "155/155 [==============================] - 7s 47ms/step - loss: 0.0395 - accuracy: 0.9927 - val_loss: 0.0265 - val_accuracy: 0.9969\n",
            "Epoch 10/10\n",
            "155/155 [==============================] - 8s 50ms/step - loss: 0.0675 - accuracy: 0.9887 - val_loss: 0.0117 - val_accuracy: 1.0000\n"
          ]
        },
        {
          "output_type": "execute_result",
          "data": {
            "text/plain": [
              "<keras.callbacks.History at 0x7aac74367520>"
            ]
          },
          "metadata": {},
          "execution_count": 53
        }
      ]
    },
    {
      "cell_type": "code",
      "source": [
        "model.save('animalWeights.h5')"
      ],
      "metadata": {
        "id": "d2O9-7LQZ-CJ"
      },
      "execution_count": 54,
      "outputs": []
    },
    {
      "cell_type": "code",
      "source": [
        "#testing\n",
        "import numpy as np\n",
        "from tensorflow.keras.preprocessing import image\n"
      ],
      "metadata": {
        "id": "2-nKaB1JbuJL"
      },
      "execution_count": 55,
      "outputs": []
    },
    {
      "cell_type": "code",
      "source": [
        "img = image.load_img('/content/1.jpeg',target_size=(120,120))"
      ],
      "metadata": {
        "id": "UQ8UHx_dhyK6"
      },
      "execution_count": 56,
      "outputs": []
    },
    {
      "cell_type": "code",
      "source": [
        "img"
      ],
      "metadata": {
        "colab": {
          "base_uri": "https://localhost:8080/",
          "height": 137
        },
        "id": "0kRgqIrrii-Y",
        "outputId": "7dfaef11-22ea-4f87-c6aa-b82fc02d6a0e"
      },
      "execution_count": 57,
      "outputs": [
        {
          "output_type": "execute_result",
          "data": {
            "text/plain": [
              "<PIL.Image.Image image mode=RGB size=120x120>"
            ],
            "image/png": "[encoded data removed]"
          },
          "metadata": {},
          "execution_count": 57
        }
      ]
    },
    {
      "cell_type": "code",
      "source": [
        "img = image.img_to_array(img)\n",
        "img"
      ],
      "metadata": {
        "colab": {
          "base_uri": "https://localhost:8080/"
        },
        "id": "ogDMPhpKijm0",
        "outputId": "0b67f73f-2a46-431e-878d-7ad3251f4843"
      },
      "execution_count": 58,
      "outputs": [
        {
          "output_type": "execute_result",
          "data": {
            "text/plain": [
              "array([[[202., 212., 222.],\n",
              "        [202., 212., 222.],\n",
              "        [202., 212., 222.],\n",
              "        ...,\n",
              "        [190., 202., 218.],\n",
              "        [194., 205., 223.],\n",
              "        [201., 212., 230.]],\n",
              "\n",
              "       [[201., 211., 221.],\n",
              "        [201., 211., 221.],\n",
              "        [201., 211., 221.],\n",
              "        ...,\n",
              "        [192., 201., 218.],\n",
              "        [195., 204., 221.],\n",
              "        [199., 207., 226.]],\n",
              "\n",
              "       [[199., 209., 219.],\n",
              "        [199., 209., 219.],\n",
              "        [199., 209., 219.],\n",
              "        ...,\n",
              "        [193., 202., 219.],\n",
              "        [196., 205., 222.],\n",
              "        [198., 206., 225.]],\n",
              "\n",
              "       ...,\n",
              "\n",
              "       [[174., 175., 133.],\n",
              "        [135., 136.,  94.],\n",
              "        [134., 135.,  91.],\n",
              "        ...,\n",
              "        [173., 176., 123.],\n",
              "        [143., 146.,  93.],\n",
              "        [192., 195., 142.]],\n",
              "\n",
              "       [[197., 198., 156.],\n",
              "        [143., 144., 102.],\n",
              "        [166., 167., 123.],\n",
              "        ...,\n",
              "        [188., 191., 138.],\n",
              "        [144., 147.,  94.],\n",
              "        [199., 201., 151.]],\n",
              "\n",
              "       [[203., 204., 162.],\n",
              "        [147., 148., 106.],\n",
              "        [178., 179., 135.],\n",
              "        ...,\n",
              "        [172., 175., 122.],\n",
              "        [195., 198., 145.],\n",
              "        [211., 213., 163.]]], dtype=float32)"
            ]
          },
          "metadata": {},
          "execution_count": 58
        }
      ]
    },
    {
      "cell_type": "code",
      "source": [
        "#to increase channel by 1 (to make 2 --> 3) (rgb)\n",
        "img = np.expand_dims(img,axis=0)\n",
        "img"
      ],
      "metadata": {
        "colab": {
          "base_uri": "https://localhost:8080/"
        },
        "id": "NXMiMSvZixjZ",
        "outputId": "6a65baf9-b5e8-4291-ec32-28d96f85b404"
      },
      "execution_count": 59,
      "outputs": [
        {
          "output_type": "execute_result",
          "data": {
            "text/plain": [
              "array([[[[202., 212., 222.],\n",
              "         [202., 212., 222.],\n",
              "         [202., 212., 222.],\n",
              "         ...,\n",
              "         [190., 202., 218.],\n",
              "         [194., 205., 223.],\n",
              "         [201., 212., 230.]],\n",
              "\n",
              "        [[201., 211., 221.],\n",
              "         [201., 211., 221.],\n",
              "         [201., 211., 221.],\n",
              "         ...,\n",
              "         [192., 201., 218.],\n",
              "         [195., 204., 221.],\n",
              "         [199., 207., 226.]],\n",
              "\n",
              "        [[199., 209., 219.],\n",
              "         [199., 209., 219.],\n",
              "         [199., 209., 219.],\n",
              "         ...,\n",
              "         [193., 202., 219.],\n",
              "         [196., 205., 222.],\n",
              "         [198., 206., 225.]],\n",
              "\n",
              "        ...,\n",
              "\n",
              "        [[174., 175., 133.],\n",
              "         [135., 136.,  94.],\n",
              "         [134., 135.,  91.],\n",
              "         ...,\n",
              "         [173., 176., 123.],\n",
              "         [143., 146.,  93.],\n",
              "         [192., 195., 142.]],\n",
              "\n",
              "        [[197., 198., 156.],\n",
              "         [143., 144., 102.],\n",
              "         [166., 167., 123.],\n",
              "         ...,\n",
              "         [188., 191., 138.],\n",
              "         [144., 147.,  94.],\n",
              "         [199., 201., 151.]],\n",
              "\n",
              "        [[203., 204., 162.],\n",
              "         [147., 148., 106.],\n",
              "         [178., 179., 135.],\n",
              "         ...,\n",
              "         [172., 175., 122.],\n",
              "         [195., 198., 145.],\n",
              "         [211., 213., 163.]]]], dtype=float32)"
            ]
          },
          "metadata": {},
          "execution_count": 59
        }
      ]
    },
    {
      "cell_type": "code",
      "source": [
        "np.argmax(model.predict(img))"
      ],
      "metadata": {
        "colab": {
          "base_uri": "https://localhost:8080/"
        },
        "id": "M21Dj-f7mP84",
        "outputId": "5ff068ea-f50f-492e-e2d7-d544d206d7e0"
      },
      "execution_count": 60,
      "outputs": [
        {
          "output_type": "stream",
          "name": "stdout",
          "text": [
            "1/1 [==============================] - 0s 99ms/step\n"
          ]
        },
        {
          "output_type": "execute_result",
          "data": {
            "text/plain": [
              "0"
            ]
          },
          "metadata": {},
          "execution_count": 60
        }
      ]
    }
  ]
}