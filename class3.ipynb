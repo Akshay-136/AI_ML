{
  "nbformat": 4,
  "nbformat_minor": 0,
  "metadata": {
    "colab": {
      "provenance": [],
      "authorship_tag": "ABX9TyMQX7ODINxq93dKV5eloKHQ",
      "include_colab_link": true
    },
    "kernelspec": {
      "name": "python3",
      "display_name": "Python 3"
    },
    "language_info": {
      "name": "python"
    }
  },
  "cells": [
    {
      "cell_type": "markdown",
      "metadata": {
        "id": "view-in-github",
        "colab_type": "text"
      },
      "source": [
        "<a href=\"https://colab.research.google.com/github/Akshay-136/AI_ML/blob/master/class3.ipynb\" target=\"_parent\"><img src=\"https://colab.research.google.com/assets/colab-badge.svg\" alt=\"Open In Colab\"/></a>"
      ]
    },
    {
      "cell_type": "markdown",
      "source": [
        "**Dictionary**"
      ],
      "metadata": {
        "id": "SPIaBTgI34ho"
      }
    },
    {
      "cell_type": "code",
      "source": [
        "#dict {key:values}"
      ],
      "metadata": {
        "id": "c6Hs8_8r7MaM"
      },
      "execution_count": 6,
      "outputs": []
    },
    {
      "cell_type": "code",
      "execution_count": 1,
      "metadata": {
        "colab": {
          "base_uri": "https://localhost:8080/"
        },
        "id": "m1MFE45Iq6vT",
        "outputId": "c6c1ef9c-0257-4c12-bc1f-dbec36afbbde"
      },
      "outputs": [
        {
          "output_type": "execute_result",
          "data": {
            "text/plain": [
              "{1: 'akshay', 2: 'cds', 3: 'IMA'}"
            ]
          },
          "metadata": {},
          "execution_count": 1
        }
      ],
      "source": [
        "dict_1 = {1:'akshay',\n",
        "          2:'cds',\n",
        "          3:'IMA'}\n",
        "dict_1"
      ]
    },
    {
      "cell_type": "code",
      "source": [
        "type(dict_1)"
      ],
      "metadata": {
        "colab": {
          "base_uri": "https://localhost:8080/"
        },
        "id": "sCZ_PqJo6q6U",
        "outputId": "6df6bd17-fdf8-49b0-e078-771486374b24"
      },
      "execution_count": 3,
      "outputs": [
        {
          "output_type": "execute_result",
          "data": {
            "text/plain": [
              "dict"
            ]
          },
          "metadata": {},
          "execution_count": 3
        }
      ]
    },
    {
      "cell_type": "code",
      "source": [
        "set={'akshay','cds','IMA'}\n",
        "type(set)"
      ],
      "metadata": {
        "colab": {
          "base_uri": "https://localhost:8080/"
        },
        "id": "bj_l_Jxx6zPN",
        "outputId": "5194dfd7-06bd-447f-8f17-922664e7655d"
      },
      "execution_count": 5,
      "outputs": [
        {
          "output_type": "execute_result",
          "data": {
            "text/plain": [
              "set"
            ]
          },
          "metadata": {},
          "execution_count": 5
        }
      ]
    },
    {
      "cell_type": "code",
      "source": [
        "dict_1 = {1:['akshay','chandel'],\n",
        "          2:'cds',\n",
        "          3:'IMA'}\n",
        "dict_1\n",
        "#for one key we can assign more than one value but not vice vera there cannot be more than 1 key"
      ],
      "metadata": {
        "colab": {
          "base_uri": "https://localhost:8080/"
        },
        "id": "oBQmz7N169Y5",
        "outputId": "0b093dfb-41e8-4a73-807c-9b5a09b2c620"
      },
      "execution_count": 7,
      "outputs": [
        {
          "output_type": "execute_result",
          "data": {
            "text/plain": [
              "{1: ['akshay', 'chandel'], 2: 'cds', 3: 'IMA'}"
            ]
          },
          "metadata": {},
          "execution_count": 7
        }
      ]
    },
    {
      "cell_type": "code",
      "source": [
        "dict_1.keys()"
      ],
      "metadata": {
        "colab": {
          "base_uri": "https://localhost:8080/"
        },
        "id": "hDyeQ9M27rsX",
        "outputId": "16467fbc-b71c-489a-e8a9-35fa9dc49b0d"
      },
      "execution_count": 9,
      "outputs": [
        {
          "output_type": "execute_result",
          "data": {
            "text/plain": [
              "dict_keys([1, 2, 3])"
            ]
          },
          "metadata": {},
          "execution_count": 9
        }
      ]
    },
    {
      "cell_type": "code",
      "source": [
        "dict_1.values()"
      ],
      "metadata": {
        "colab": {
          "base_uri": "https://localhost:8080/"
        },
        "id": "gf9iSE3WG5HN",
        "outputId": "b4f2c86e-7a05-4e41-ab16-68ce9c9fd656"
      },
      "execution_count": 10,
      "outputs": [
        {
          "output_type": "execute_result",
          "data": {
            "text/plain": [
              "dict_values([['akshay', 'chandel'], 'cds', 'IMA'])"
            ]
          },
          "metadata": {},
          "execution_count": 10
        }
      ]
    },
    {
      "cell_type": "code",
      "source": [
        "dict_1 = {1:['akshay','chandel'],\n",
        "          2:'cds',\n",
        "          3:'IMA'}\n",
        "dict_1.items()"
      ],
      "metadata": {
        "colab": {
          "base_uri": "https://localhost:8080/"
        },
        "id": "5wUIspXPHBeg",
        "outputId": "ed5314a0-4fe5-47f0-b0ed-8ec0d8afa8a6"
      },
      "execution_count": 2,
      "outputs": [
        {
          "output_type": "execute_result",
          "data": {
            "text/plain": [
              "dict_items([(1, ['akshay', 'chandel']), (2, 'cds'), (3, 'IMA')])"
            ]
          },
          "metadata": {},
          "execution_count": 2
        }
      ]
    },
    {
      "cell_type": "code",
      "source": [
        "dict_1[1]"
      ],
      "metadata": {
        "colab": {
          "base_uri": "https://localhost:8080/"
        },
        "id": "8hz4wYx7muYu",
        "outputId": "7981e90d-7e73-4dee-e829-42d1565c9b0c"
      },
      "execution_count": 3,
      "outputs": [
        {
          "output_type": "execute_result",
          "data": {
            "text/plain": [
              "['akshay', 'chandel']"
            ]
          },
          "metadata": {},
          "execution_count": 3
        }
      ]
    },
    {
      "cell_type": "code",
      "source": [
        "dict_1[3]"
      ],
      "metadata": {
        "colab": {
          "base_uri": "https://localhost:8080/",
          "height": 35
        },
        "id": "X-62iAfnnk7L",
        "outputId": "436f7a83-0fec-47ba-b29e-8e51f59a2976"
      },
      "execution_count": 4,
      "outputs": [
        {
          "output_type": "execute_result",
          "data": {
            "text/plain": [
              "'IMA'"
            ],
            "application/vnd.google.colaboratory.intrinsic+json": {
              "type": "string"
            }
          },
          "metadata": {},
          "execution_count": 4
        }
      ]
    },
    {
      "cell_type": "code",
      "source": [
        "dict_1[1]=['virat','kohli']\n",
        "dict_1"
      ],
      "metadata": {
        "colab": {
          "base_uri": "https://localhost:8080/"
        },
        "id": "GlpkCKlTnpVz",
        "outputId": "babbff58-9c82-4d8b-cf80-24a322addd7f"
      },
      "execution_count": 5,
      "outputs": [
        {
          "output_type": "execute_result",
          "data": {
            "text/plain": [
              "{1: ['virat', 'kohli'], 2: 'cds', 3: 'IMA'}"
            ]
          },
          "metadata": {},
          "execution_count": 5
        }
      ]
    },
    {
      "cell_type": "code",
      "source": [
        "#not allow duplicates\n",
        "dict_1 = {'Name':['akshay','chandel'],\n",
        "          'exam':'cds',\n",
        "          'institute':'IMA'}\n",
        "dict_1"
      ],
      "metadata": {
        "colab": {
          "base_uri": "https://localhost:8080/"
        },
        "id": "pIUxrD3nn18q",
        "outputId": "69997be9-87d4-442d-9202-2904d95cf64d"
      },
      "execution_count": 6,
      "outputs": [
        {
          "output_type": "execute_result",
          "data": {
            "text/plain": [
              "{'Name': ['akshay', 'chandel'], 'exam': 'cds', 'institute': 'IMA'}"
            ]
          },
          "metadata": {},
          "execution_count": 6
        }
      ]
    },
    {
      "cell_type": "code",
      "source": [
        "dict_1 = {'Name':['akshay','chandel','una','himachal'],\n",
        "          'exam':'cds',\n",
        "          'exam':'afcat',\n",
        "          'institute':'IMA'}\n",
        "dict_1\n",
        "#wrong method as the keywords can't be same"
      ],
      "metadata": {
        "colab": {
          "base_uri": "https://localhost:8080/"
        },
        "id": "sdb2wuxuqiyP",
        "outputId": "b45124ee-61fc-492c-c388-49719a1b423c"
      },
      "execution_count": 14,
      "outputs": [
        {
          "output_type": "execute_result",
          "data": {
            "text/plain": [
              "{'Name': ['akshay', 'chandel', 'una', 'himachal'],\n",
              " 'exam': 'afcat',\n",
              " 'institute': 'IMA'}"
            ]
          },
          "metadata": {},
          "execution_count": 14
        }
      ]
    },
    {
      "cell_type": "code",
      "source": [
        "dict_1['Name']"
      ],
      "metadata": {
        "colab": {
          "base_uri": "https://localhost:8080/"
        },
        "id": "2R-wAKAQq2M4",
        "outputId": "74c9d9e9-66aa-4524-f919-30aba1190a71"
      },
      "execution_count": 15,
      "outputs": [
        {
          "output_type": "execute_result",
          "data": {
            "text/plain": [
              "['akshay', 'chandel', 'una', 'himachal']"
            ]
          },
          "metadata": {},
          "execution_count": 15
        }
      ]
    },
    {
      "cell_type": "code",
      "source": [
        "type(dict_1['Name'])"
      ],
      "metadata": {
        "colab": {
          "base_uri": "https://localhost:8080/"
        },
        "id": "pBpvWb-0vTMb",
        "outputId": "92d91309-ea88-4315-e2bc-1af4e0f6f0a1"
      },
      "execution_count": 11,
      "outputs": [
        {
          "output_type": "execute_result",
          "data": {
            "text/plain": [
              "list"
            ]
          },
          "metadata": {},
          "execution_count": 11
        }
      ]
    },
    {
      "cell_type": "code",
      "source": [
        "dict_1['Name'][1:4]"
      ],
      "metadata": {
        "colab": {
          "base_uri": "https://localhost:8080/"
        },
        "id": "X8xXbqd5wpdX",
        "outputId": "6facf78a-1501-4ba5-8d5b-bdf8cf93f9c8"
      },
      "execution_count": 16,
      "outputs": [
        {
          "output_type": "execute_result",
          "data": {
            "text/plain": [
              "['chandel', 'una', 'himachal']"
            ]
          },
          "metadata": {},
          "execution_count": 16
        }
      ]
    },
    {
      "cell_type": "code",
      "source": [
        "#if we want last 2 value\n",
        "dict_1['Name'][-2:]"
      ],
      "metadata": {
        "colab": {
          "base_uri": "https://localhost:8080/"
        },
        "id": "8zzTnFSZ3LL7",
        "outputId": "0d2423c8-76f2-40a6-e293-cdbad2e5bf96"
      },
      "execution_count": 19,
      "outputs": [
        {
          "output_type": "execute_result",
          "data": {
            "text/plain": [
              "['una', 'himachal']"
            ]
          },
          "metadata": {},
          "execution_count": 19
        }
      ]
    },
    {
      "cell_type": "code",
      "source": [
        "dict_1['Name'][-4:-2]"
      ],
      "metadata": {
        "colab": {
          "base_uri": "https://localhost:8080/"
        },
        "id": "SqQ-jKTI3XFd",
        "outputId": "4a377edd-9bba-49b6-bfc6-2281225bd617"
      },
      "execution_count": 23,
      "outputs": [
        {
          "output_type": "execute_result",
          "data": {
            "text/plain": [
              "['akshay', 'chandel']"
            ]
          },
          "metadata": {},
          "execution_count": 23
        }
      ]
    },
    {
      "cell_type": "code",
      "source": [
        "#delete dictionary using\n",
        "# del dict_1"
      ],
      "metadata": {
        "id": "fjRKO2qO55TC"
      },
      "execution_count": 24,
      "outputs": []
    },
    {
      "cell_type": "code",
      "source": [
        "#conditions (ststements)\n",
        "a = int( input())\n",
        "if a>9:\n",
        "  print(\"{} is user input\".format(a))"
      ],
      "metadata": {
        "colab": {
          "base_uri": "https://localhost:8080/"
        },
        "id": "bIGs2ovGIzlu",
        "outputId": "74691f1e-968a-4c1d-a176-5f9946e1222e"
      },
      "execution_count": 29,
      "outputs": [
        {
          "output_type": "stream",
          "name": "stdout",
          "text": [
            "12\n",
            "12 is user input\n"
          ]
        }
      ]
    },
    {
      "cell_type": "code",
      "source": [
        "a = input(\"enter trainer name\")\n",
        "b = input(\"enter sesion name\")\n",
        "print(\"the trainer\",a, \"is taking\",b,\"session\")\n",
        "print(\"the trainer {} is taking {} session\".format(a,b))"
      ],
      "metadata": {
        "colab": {
          "base_uri": "https://localhost:8080/"
        },
        "id": "k4h6ISZ0JRXq",
        "outputId": "e348b735-5be4-410f-cd85-0666e9ede608"
      },
      "execution_count": 30,
      "outputs": [
        {
          "output_type": "stream",
          "name": "stdout",
          "text": [
            "enter trainer nameram\n",
            "enter sesion namecoding\n",
            "the trainer ram is taking coding session\n",
            "the trainer ram is taking coding session\n"
          ]
        }
      ]
    },
    {
      "cell_type": "code",
      "source": [
        "#for loop & while loop\n",
        "for i in range(10):\n",
        "  print(i)\n"
      ],
      "metadata": {
        "colab": {
          "base_uri": "https://localhost:8080/"
        },
        "id": "AMkx0khSK4k0",
        "outputId": "0d5cb458-234a-42f8-b2d0-917bc4f0f23c"
      },
      "execution_count": 31,
      "outputs": [
        {
          "output_type": "stream",
          "name": "stdout",
          "text": [
            "0\n",
            "1\n",
            "2\n",
            "3\n",
            "4\n",
            "5\n",
            "6\n",
            "7\n",
            "8\n",
            "9\n"
          ]
        }
      ]
    },
    {
      "cell_type": "code",
      "source": [
        "for i in range(10):\n",
        "  if i==4:\n",
        "    break\n",
        "  print(i)\n"
      ],
      "metadata": {
        "colab": {
          "base_uri": "https://localhost:8080/"
        },
        "id": "_Tec36vTOE04",
        "outputId": "81fd8a9c-7b90-4bd1-b979-866f35282e63"
      },
      "execution_count": 32,
      "outputs": [
        {
          "output_type": "stream",
          "name": "stdout",
          "text": [
            "0\n",
            "1\n",
            "2\n",
            "3\n"
          ]
        }
      ]
    },
    {
      "cell_type": "code",
      "source": [
        "for i in 'akshay':\n",
        "  print (i)"
      ],
      "metadata": {
        "colab": {
          "base_uri": "https://localhost:8080/"
        },
        "id": "inLUEwZ4ORmV",
        "outputId": "44f69868-e0a4-42f3-9c47-f4ccc93d4d49"
      },
      "execution_count": 33,
      "outputs": [
        {
          "output_type": "stream",
          "name": "stdout",
          "text": [
            "a\n",
            "k\n",
            "s\n",
            "h\n",
            "a\n",
            "y\n"
          ]
        }
      ]
    },
    {
      "cell_type": "code",
      "source": [
        "a=0\n",
        "while(a<4):\n",
        "\n",
        "  a=a+1 #(a=a-1)\n",
        "  print(a)"
      ],
      "metadata": {
        "colab": {
          "base_uri": "https://localhost:8080/"
        },
        "id": "dCIf-IVXOY5_",
        "outputId": "ad2ca17c-a628-4658-d78b-b3a8f033b7ed"
      },
      "execution_count": 35,
      "outputs": [
        {
          "output_type": "stream",
          "name": "stdout",
          "text": [
            "1\n",
            "2\n",
            "3\n",
            "4\n"
          ]
        }
      ]
    },
    {
      "cell_type": "code",
      "source": [
        "#break , continue , pass\n",
        "\n",
        "for i in range(10,30):\n",
        "  if i==14:\n",
        "    continue  #skip the condition\n",
        "    print(i)\n",
        "  elif i==20:\n",
        "    pass\n",
        "    print(i)\n",
        "  else:\n",
        "    print(i)"
      ],
      "metadata": {
        "colab": {
          "base_uri": "https://localhost:8080/"
        },
        "id": "J_l4wkBxavlC",
        "outputId": "37aa15aa-b0e4-43a8-b9fc-09c2f6b0d8b5"
      },
      "execution_count": 37,
      "outputs": [
        {
          "output_type": "stream",
          "name": "stdout",
          "text": [
            "10\n",
            "11\n",
            "12\n",
            "13\n",
            "15\n",
            "16\n",
            "17\n",
            "18\n",
            "19\n",
            "20\n",
            "21\n",
            "22\n",
            "23\n",
            "24\n",
            "25\n",
            "26\n",
            "27\n",
            "28\n",
            "29\n"
          ]
        }
      ]
    },
    {
      "cell_type": "code",
      "source": [
        "def add(a,b):\n",
        "  c = a+b\n",
        "  return c"
      ],
      "metadata": {
        "id": "lWa-2Jsmdv9D"
      },
      "execution_count": 38,
      "outputs": []
    },
    {
      "cell_type": "code",
      "source": [
        "add(2,3)"
      ],
      "metadata": {
        "colab": {
          "base_uri": "https://localhost:8080/"
        },
        "id": "bQsOOrjQhvcm",
        "outputId": "a722e3c8-2a06-4f59-b24c-4655ce632e62"
      },
      "execution_count": 39,
      "outputs": [
        {
          "output_type": "execute_result",
          "data": {
            "text/plain": [
              "5"
            ]
          },
          "metadata": {},
          "execution_count": 39
        }
      ]
    },
    {
      "cell_type": "code",
      "source": [
        "n =10\n",
        "for i in range(n):\n",
        "  pass"
      ],
      "metadata": {
        "id": "-EieVjKaiApO"
      },
      "execution_count": 43,
      "outputs": []
    },
    {
      "cell_type": "code",
      "source": [
        "#lamba function ----syntax--> lambda args(can be multiple):expression(one)\n",
        "a = lambda x,y:x*y\n",
        "a(5,4),a(12,12)"
      ],
      "metadata": {
        "colab": {
          "base_uri": "https://localhost:8080/"
        },
        "id": "isVoXMWFiuZ_",
        "outputId": "c1b71592-2395-45b5-e8d4-26b28d694b0b"
      },
      "execution_count": 49,
      "outputs": [
        {
          "output_type": "execute_result",
          "data": {
            "text/plain": [
              "(20, 144)"
            ]
          },
          "metadata": {},
          "execution_count": 49
        }
      ]
    },
    {
      "cell_type": "code",
      "source": [
        "b = lambda x,y,a,b:(a+b)-(x-y)\n",
        "b(2,5,8,3)"
      ],
      "metadata": {
        "colab": {
          "base_uri": "https://localhost:8080/"
        },
        "id": "hKXRxIAzjgZh",
        "outputId": "1487905a-f438-4302-c642-88a90f021714"
      },
      "execution_count": 46,
      "outputs": [
        {
          "output_type": "execute_result",
          "data": {
            "text/plain": [
              "14"
            ]
          },
          "metadata": {},
          "execution_count": 46
        }
      ]
    },
    {
      "cell_type": "code",
      "source": [
        "#list comprehension\n",
        "l1= ['akshay','pawan','ram','lakshman','ram','akshay']\n",
        "l1"
      ],
      "metadata": {
        "colab": {
          "base_uri": "https://localhost:8080/"
        },
        "id": "GVlFI1ycjobb",
        "outputId": "2a51bb72-7060-464b-b454-9929911a2a3a"
      },
      "execution_count": 50,
      "outputs": [
        {
          "output_type": "execute_result",
          "data": {
            "text/plain": [
              "['akshay', 'pawan', 'ram', 'lakshman', 'ram', 'akshay']"
            ]
          },
          "metadata": {},
          "execution_count": 50
        }
      ]
    },
    {
      "cell_type": "code",
      "source": [
        "#syntax ------->> newlist=[expression for i in iterable if condition ==True]"
      ],
      "metadata": {
        "id": "_DDJol4TqSal"
      },
      "execution_count": 53,
      "outputs": []
    },
    {
      "cell_type": "code",
      "source": [
        "l2=['krishna' if i =='akshay' else i for i in  l1] # replace akshay with krishna\n",
        "l2"
      ],
      "metadata": {
        "colab": {
          "base_uri": "https://localhost:8080/"
        },
        "id": "J9r12JfTpwrf",
        "outputId": "1e4906cd-8389-4c77-d31a-2b5674be303c"
      },
      "execution_count": 52,
      "outputs": [
        {
          "output_type": "execute_result",
          "data": {
            "text/plain": [
              "['krishna', 'pawan', 'ram', 'lakshman', 'ram', 'krishna']"
            ]
          },
          "metadata": {},
          "execution_count": 52
        }
      ]
    },
    {
      "cell_type": "code",
      "source": [],
      "metadata": {
        "id": "CJ81FtL6p_oL"
      },
      "execution_count": null,
      "outputs": []
    }
  ]
}